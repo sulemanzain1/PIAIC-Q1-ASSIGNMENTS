{
  "nbformat": 4,
  "nbformat_minor": 0,
  "metadata": {
    "colab": {
      "provenance": []
    },
    "kernelspec": {
      "name": "python3",
      "display_name": "Python 3"
    },
    "language_info": {
      "name": "python"
    }
  },
  "cells": [
    {
      "cell_type": "code",
      "execution_count": 1,
      "metadata": {
        "colab": {
          "base_uri": "https://localhost:8080/"
        },
        "id": "CybZPUHOmggH",
        "outputId": "a861a8c3-5449-425f-c963-f01bd9f5df16"
      },
      "outputs": [
        {
          "output_type": "stream",
          "name": "stdout",
          "text": [
            "Entered Units: 525\n",
            "Electric Charges for: 525 = 10374.0\n",
            "Uniform Charges for: 525 = 300.0375\n",
            "Fuel Charges for: 525 = 9.90\n",
            "Sales Tax for: 525 = 1763.58\n",
            "Advance Tax for: 525 = 7.88\n",
            "TV Charges for: 525 = 35.0\n",
            "Total Bill for  525 = 12482.515\n"
          ]
        }
      ],
      "source": [
        "# Define Function for Uniform Charges of Electricity\n",
        "def electricity(monthly_units):\n",
        "  charges = 0\n",
        "  if monthly_units > 0 and monthly_units <101:\n",
        "    charges = monthly_units * 9.43\n",
        "  if monthly_units > 100 and monthly_units < 201:\n",
        "    charges = monthly_units * 10.29\n",
        "  elif monthly_units > 200 and monthly_units < 301:\n",
        "    charges = monthly_units * 12.55\n",
        "  elif monthly_units > 300 and monthly_units <401:\n",
        "    charges = monthly_units * 17.38\n",
        "  elif monthly_units > 400 and monthly_units <501:\n",
        "    charges = monthly_units * 18.84\n",
        "  elif monthly_units > 500 and monthly_units <601:\n",
        "    charges = monthly_units * 19.76\n",
        "  elif monthly_units > 600 and monthly_units <701:\n",
        "    charges = monthly_units * 20.40\n",
        "  elif monthly_units > 700:\n",
        "    charges = monthly_units * 23.87\n",
        "  else:\n",
        "    charges = -1\n",
        "  return charges\n",
        "\n",
        "def fuel(monthly_units):\n",
        "  fuel_charge_for_june = 3.0114\n",
        "  fuel_charge_for_may = 6.8858\n",
        "  return fuel_charge_for_june +fuel_charge_for_may\n",
        "  \n",
        "\n",
        "# Define Function For Advance Tax\n",
        "def advance(monthly_units):\n",
        "  return monthly_units * 0.015\n",
        "\n",
        "#define Uniform Charges \n",
        "def uniform(monthly_units):\n",
        "  return monthly_units * 0.5715\n",
        "\n",
        "  \n",
        "# Define Fuction For Sales Tax\n",
        "def sales(monthly_units):\n",
        "  sale = electricity(monthly_units)\n",
        "  return sale * 0.17\n",
        "  \n",
        "\n",
        "# Define Fuction For TV Fee\n",
        "def tv(monthly_units):\n",
        "  return 35.00\n",
        "\n",
        "#  Define Fuction for Total Bill\n",
        "def total(electricity, uniform, fuel, sales, tv):\n",
        "  return electricity + uniform + fuel + sales + tv\n",
        "  \n",
        "\n",
        "# Calling All function in Main Function\n",
        "def bill_main(monthly_units):\n",
        "  electric_charges = electricity(monthly_units)\n",
        "  print(\"Electric Charges for:\" , monthly_units, \"=\", electric_charges)\n",
        "  uniform_charges = uniform(monthly_units)\n",
        "  print(\"Uniform Charges for:\" , monthly_units, \"=\", uniform_charges)\n",
        "  fuel_charges = fuel(monthly_units)\n",
        "  print(\"Fuel Charges for:\" , monthly_units, \"=\", \"%.2f\" % fuel_charges)\n",
        "  sales_tax = sales(monthly_units)\n",
        "  print(\"Sales Tax for:\" , monthly_units, \"=\", \"%.2f\" % sales_tax)\n",
        "  advance_tax = advance(monthly_units)\n",
        "  print(\"Advance Tax for:\" , monthly_units, \"=\", \"%.2f\" % advance_tax)\n",
        "  tv_fee = tv(monthly_units)\n",
        "  print(\"TV Charges for:\" , monthly_units, \"=\", tv_fee)\n",
        "  totals = total(electric_charges,uniform_charges,fuel_charges,sales_tax,tv_fee)\n",
        "  print(\"Total Bill for \",monthly_units, \"=\", \"%.3f\" % totals)\n",
        "monthly_units = int(input(\"Entered Units: \"))\n",
        "bill_main(monthly_units)"
      ]
    },
    {
      "cell_type": "code",
      "source": [],
      "metadata": {
        "id": "TJIug2nxmh4p"
      },
      "execution_count": null,
      "outputs": []
    }
  ]
}