{
 "cells": [
  {
   "cell_type": "markdown",
   "metadata": {
    "id": "Hs3-rqQLaMOs"
   },
   "source": [
    "**Grand Assignment**"
   ]
  },
  {
   "cell_type": "markdown",
   "metadata": {
    "id": "yoFPv_Hcb3Iv"
   },
   "source": [
    "***Variables and Strings***"
   ]
  },
  {
   "cell_type": "markdown",
   "metadata": {
    "id": "XLAWmJh_b9vr"
   },
   "source": [
    "*1.**Simple Message:** Assign a message to a variable, and then print that\n",
    "message.* "
   ]
  },
  {
   "cell_type": "code",
   "execution_count": 1,
   "metadata": {
    "id": "Xu9FoVk1aKtu"
   },
   "outputs": [
    {
     "name": "stdout",
     "output_type": "stream",
     "text": [
      "My name is:  Muhammad Sulaiman\n",
      "My roll numbers is:  PIAIC84560\n"
     ]
    }
   ],
   "source": [
    "Name=\"Muhammad Sulaiman\"\n",
    "Roll_Num=\"PIAIC84560\"\n",
    "\n",
    "print(\"My name is: \",Name)\n",
    "print(\"My roll numbers is: \",Roll_Num)"
   ]
  },
  {
   "cell_type": "markdown",
   "metadata": {
    "id": "Ckp41qGzcMhY"
   },
   "source": [
    "2.Find a quote from a famous person you admire. Print the\n",
    "quote and the name of its author. Your output should look something like the\n",
    "following, including the quotation marks:\n",
    "\n",
    "**Albert Einstein once said, “A person who never made a\n",
    "mistake never tried anything new.”**\n"
   ]
  },
  {
   "cell_type": "code",
   "execution_count": 4,
   "metadata": {
    "id": "RAOYKTZDc9l5"
   },
   "outputs": [
    {
     "name": "stdout",
     "output_type": "stream",
     "text": [
      "Nelson Mandela Said \"It always seems impossible until it's done.\"\n"
     ]
    }
   ],
   "source": [
    "print('''Nelson Mandela Said \"It always seems impossible until it's done.\"''')"
   ]
  },
  {
   "cell_type": "markdown",
   "metadata": {
    "id": "5dsWBIrAduRU"
   },
   "source": [
    "*3. Use a variable to represent your favorite number. Then,\n",
    "using that variable, create a message that reveals your favorite number. Print\n",
    "that message*"
   ]
  },
  {
   "cell_type": "code",
   "execution_count": 8,
   "metadata": {
    "id": "n5bKUt2Xdxet"
   },
   "outputs": [
    {
     "name": "stdout",
     "output_type": "stream",
     "text": [
      "Enter your Favourite Number: 4\n",
      "Your Favorite Number:  4\n"
     ]
    }
   ],
   "source": [
    "Fav_Num=int(input(\"Enter your Favourite Number: \"))\n",
    "print(\"Your Favorite Number: \",Fav_Num)"
   ]
  },
  {
   "cell_type": "markdown",
   "metadata": {
    "id": "03-7JmJFh1gu"
   },
   "source": [
    "4. **Calculate Area of a Circle::**\n",
    "\n",
    "Write a Python program which accepts the radius of a circle from the user and compute the area.\n",
    "\n",
    "Program Console Sample Output 1:\n",
    "\n",
    "Input Radius: 0.5\n",
    "\n",
    "Area of Circle with radius 0.5 is 0.7853981634"
   ]
  },
  {
   "cell_type": "code",
   "execution_count": 43,
   "metadata": {
    "id": "ZQqUhli7iD8V"
   },
   "outputs": [
    {
     "name": "stdout",
     "output_type": "stream",
     "text": [
      "Enter the radius: 0.5\n",
      "Area of Circle is:  0.785398\n"
     ]
    }
   ],
   "source": [
    "r=float(input(\"Enter the radius: \"))\n",
    "Area_of_circle = (r**2)*3.141592\n",
    "print(\"Area of Circle is: \",Area_of_circle)"
   ]
  },
  {
   "cell_type": "markdown",
   "metadata": {
    "id": "_52LUHoriEdK"
   },
   "source": [
    "5. **Check Number either positive, negative or zero::**\n",
    "\n",
    "Write a Python program to check if a number is positive, \n",
    "\n",
    "negative or zero\n",
    "\n",
    "Program Console Sample Output 1:\n",
    "\n",
    "Enter Number: -1\n",
    "\n",
    "Negative Number Entered\n",
    "\n",
    "Program Console Sample Output 2:\n",
    "\n",
    "Integer: 3\n",
    "\n",
    "Positive Number Entered\n",
    "\n",
    "Program Console Sample Output 3:\n",
    "\n",
    "Integer: 0\n",
    "\n",
    "Zero Entered"
   ]
  },
  {
   "cell_type": "code",
   "execution_count": 32,
   "metadata": {},
   "outputs": [
    {
     "name": "stdout",
     "output_type": "stream",
     "text": [
      "Enter Number: -1\n",
      "You have Entered Negative Number -1\n"
     ]
    }
   ],
   "source": [
    "User= int(input(\"Enter Number: \"))\n",
    "if User == 0:\n",
    "    print(\"You have Entered Zero\")\n",
    "elif User > 0:\n",
    "    print(\"You have Entered Positive Number\", User)\n",
    "else:\n",
    "    print(\"You have Entered Negative Number\", User)"
   ]
  },
  {
   "cell_type": "code",
   "execution_count": 33,
   "metadata": {},
   "outputs": [
    {
     "name": "stdout",
     "output_type": "stream",
     "text": [
      "Enter Number: 3\n",
      "You have Entered Positive Number 3\n"
     ]
    }
   ],
   "source": [
    "User= int(input(\"Enter Number: \"))\n",
    "if User == 0:\n",
    "    print(\"You have Entered Zero\")\n",
    "elif User > 0:\n",
    "    print(\"You have Entered Positive Number\", User)\n",
    "else:\n",
    "    print(\"You have Entered Negative Number\", User)"
   ]
  },
  {
   "cell_type": "code",
   "execution_count": 13,
   "metadata": {},
   "outputs": [
    {
     "name": "stdout",
     "output_type": "stream",
     "text": [
      "Enter Number: 0\n",
      "You have Entered Zero\n"
     ]
    }
   ],
   "source": [
    "User= int(input(\"Enter Number: \"))\n",
    "if User == 0:\n",
    "    print(\"You have Entered Zero\")\n",
    "elif User > 0:\n",
    "    print(\"You have Entered Positive Number\", User)\n",
    "else:\n",
    "    print(\"You have Entered Negative Number\", User)"
   ]
  },
  {
   "cell_type": "markdown",
   "metadata": {
    "id": "vjXA6uhpiYQX"
   },
   "source": [
    "6. **Vowel Tester**\n",
    "Write a Python program to test whether a passed letter is a vowel or not\n",
    "\n",
    "Program Console Output 1:\n",
    "\n",
    "Enter a character: A\n",
    "\n",
    "Letter A is Vowel\n",
    "\n",
    "Program Console Output 2:\n",
    "\n",
    "Enter a character: e\n",
    "\n",
    "Letter e is Vowel\n",
    "\n",
    "Program Console Output 2:\n",
    "\n",
    "Enter a character: N\n",
    "\n",
    "Letter N is not Vowel."
   ]
  },
  {
   "cell_type": "code",
   "execution_count": 28,
   "metadata": {},
   "outputs": [
    {
     "name": "stdout",
     "output_type": "stream",
     "text": [
      "Enter Any Character: A\n",
      "Letter  A  is Vowel\n"
     ]
    }
   ],
   "source": [
    "User_in = input(\"Enter Any Character: \")\n",
    "\n",
    "if User_in == \"A\" or User_in == \"E\" or User_in == \"I\" or User_in == \"O\" or User_in == \"U\":\n",
    "    print(\"Letter \",User_in, \" is Vowel\")\n",
    "elif User_in == \"a\" or User_in == \"e\" or User_in == \"i\" or User_in == \"o\" or User_in == \"u\":\n",
    "    print(\"Letter \",User_in,\" is Vowel\")\n",
    "else:\n",
    "    print(\"Letter \" ,User_in,\" is not Vowel\")\n"
   ]
  },
  {
   "cell_type": "code",
   "execution_count": 29,
   "metadata": {
    "id": "L62zqtG1jEb9"
   },
   "outputs": [
    {
     "name": "stdout",
     "output_type": "stream",
     "text": [
      "Enter Any Character: e\n",
      "Letter  e  is Vowel\n"
     ]
    }
   ],
   "source": [
    "User_in = input(\"Enter Any Character: \")\n",
    "\n",
    "if User_in == \"A\" or User_in == \"E\" or User_in == \"I\" or User_in == \"O\" or User_in == \"U\":\n",
    "    print(\"Letter \",User_in, \" is Vowel\")\n",
    "elif User_in == \"a\" or User_in == \"e\" or User_in == \"i\" or User_in == \"o\" or User_in == \"u\":\n",
    "    print(\"Letter \",User_in,\" is Vowel\")\n",
    "else:\n",
    "    print(\"Letter \" ,User_in,\" is not Vowel\")"
   ]
  },
  {
   "cell_type": "code",
   "execution_count": 30,
   "metadata": {},
   "outputs": [
    {
     "name": "stdout",
     "output_type": "stream",
     "text": [
      "Enter Any Character: N\n",
      "Letter  N  is not Vowel\n"
     ]
    }
   ],
   "source": [
    "User_in = input(\"Enter Any Character: \")\n",
    "\n",
    "if User_in == \"A\" or User_in == \"E\" or User_in == \"I\" or User_in == \"O\" or User_in == \"U\":\n",
    "    print(\"Letter \",User_in, \" is Vowel\")\n",
    "elif User_in == \"a\" or User_in == \"e\" or User_in == \"i\" or User_in == \"o\" or User_in == \"u\":\n",
    "    print(\"Letter \",User_in,\" is Vowel\")\n",
    "else:\n",
    "    print(\"Letter \" ,User_in,\" is not Vowel\")"
   ]
  },
  {
   "cell_type": "markdown",
   "metadata": {
    "id": "qZIGjsnDjFdk"
   },
   "source": [
    "7. **BMI Calculator**\n",
    "\n",
    "Write a Python program to calculate body mass index\n",
    "Program Console Sample 1:\n",
    "\n",
    "Enter Height in Cm: 180\n",
    "\n",
    "Enter Weight in Kg: 75\n",
    "\n",
    "Your BMI is 23.15"
   ]
  },
  {
   "cell_type": "code",
   "execution_count": 9,
   "metadata": {
    "id": "lE-JyyTnjcJU"
   },
   "outputs": [
    {
     "name": "stdout",
     "output_type": "stream",
     "text": [
      "Enter Height in Cm: 180\n",
      "Enter Weight in kg: 75\n",
      "Your BMI is 23.15\n"
     ]
    }
   ],
   "source": [
    "height = int(input(\"Enter Height in Cm: \"))\n",
    "weight = int(input(\"Enter Weight in kg: \"))\n",
    "\n",
    "height_in_m = height * 0.01\n",
    "\n",
    "bmi = weight/height_in_m**2\n",
    "bmi_float = \"{:.2f}\".format(bmi)\n",
    "\n",
    "print (\"Your BMI is \"\"%.2f\" % bmi)\n"
   ]
  },
  {
   "cell_type": "markdown",
   "metadata": {
    "id": "11fYzZYid3qq"
   },
   "source": [
    "**List::**"
   ]
  },
  {
   "cell_type": "markdown",
   "metadata": {
    "id": "oUNnrKdyeOks"
   },
   "source": [
    "8. **Store the names of a few of your friends in a list called names**\n",
    "\n",
    " Print each person’s name by accessing each element in the list, one at a time."
   ]
  },
  {
   "cell_type": "code",
   "execution_count": 18,
   "metadata": {
    "id": "RY49qmHQeOGB"
   },
   "outputs": [
    {
     "name": "stdout",
     "output_type": "stream",
     "text": [
      "Danish\n",
      "Talha\n",
      "Subhan\n",
      "Noman\n",
      "Salman\n",
      "Zain\n",
      "Ibtihaj\n"
     ]
    }
   ],
   "source": [
    "f_names = [\"Danish\", \"Talha\", \"Subhan\", \"Noman\", \"Salman\", \"Zain\", \"Ibtihaj\"]\n",
    "print (f_names[0])\n",
    "print (f_names[1])\n",
    "print (f_names[2])\n",
    "print (f_names[3])\n",
    "print (f_names[4])\n",
    "print (f_names[5])\n",
    "print (f_names[6])"
   ]
  },
  {
   "cell_type": "markdown",
   "metadata": {
    "id": "HQe4CmBLd0a0"
   },
   "source": [
    "9. Start with the list you used in Question 4, but instead of just  printing each person’s name, print a message to them. The text of each message should be the same, but each message should be personalized with the\n",
    "person’s name."
   ]
  },
  {
   "cell_type": "code",
   "execution_count": 59,
   "metadata": {
    "id": "QfaA6SZieroG"
   },
   "outputs": [
    {
     "name": "stdout",
     "output_type": "stream",
     "text": [
      "Welcome Danish Where were You?\n",
      "Welcome Talha Where were You?\n",
      "Welcome Subhan Where were You?\n",
      "Welcome Noman Where were You?\n",
      "Welcome Salman Where were You?\n",
      "Welcome Zain Where were You?\n",
      "Welcome Ibtihaj Where were You?\n"
     ]
    }
   ],
   "source": [
    "for f_name in f_names:\n",
    "    print(\"Welcome\",f_name,\"Where were You?\")"
   ]
  },
  {
   "cell_type": "markdown",
   "metadata": {
    "id": "3t-zoTSTesyI"
   },
   "source": [
    " 10.**Make a python program that conatains your nine favourite dishes in a list called foods.**\n",
    "Print the message, The first three items in the list are:\n",
    "\n",
    "Then use a slice to print the first three items from that program’s list.\n",
    "\n",
    "Print the message, Three items from the middle of the list are:\n",
    "\n",
    "Use a slice to print three items from the middle of the list.\n",
    "\n",
    "Print the message, The last three items in the list are:\n",
    "\n",
    "Use a slice to print the last three items in the list."
   ]
  },
  {
   "cell_type": "code",
   "execution_count": 51,
   "metadata": {
    "id": "ZpnPQbgAmQhu"
   },
   "outputs": [
    {
     "name": "stdout",
     "output_type": "stream",
     "text": [
      "The First Three items are: ['Turkish Kabab', 'Malai Boti', 'Bihari Tikka']\n",
      "The Middle Three items are: ['Meat Pillaow', 'Chiken Handi', 'Daal Chawal']\n",
      "The Last Three items are: ['Cream Donuts', 'Three Milk Cake', 'Koftay']\n"
     ]
    }
   ],
   "source": [
    "fav_foods = [\"Turkish Kabab\", \"Malai Boti\", \"Bihari Tikka\", \"Meat Pillaow\", \"Chiken Handi\", \"Daal Chawal\", \n",
    "             \"Cream Donuts\", \"Three Milk Cake\", \"Koftay\"]\n",
    "print(\"The First Three items are:\", fav_foods[:3])\n",
    "print(\"The Middle Three items are:\", fav_foods[3:6])\n",
    "print(\"The Last Three items are:\", fav_foods[6:])\n"
   ]
  },
  {
   "cell_type": "markdown",
   "metadata": {
    "id": "h37WaaZKmRMe"
   },
   "source": [
    "11. **Start with your program from your last Question8.**\n",
    "Make a copy of the list of foods, and call it friend_foods.\n",
    "Then, do the following:\n",
    "\n",
    "Add a new dish to the original list.\n",
    "\n",
    "Add a different dish to the list friend_foods.\n",
    "\n",
    "Prove that you have two separate lists.\n",
    "\n",
    "Print the message, My favorite pizzas are: and then use a for loop to print the first list.\n",
    "\n",
    "Print the message,\n",
    "\n",
    "My friend’s favorite foods are:, and then use a for loop to print the second list.\n",
    "\n",
    "NOTE: Make sure each new dish is stored in the appropriate list."
   ]
  },
  {
   "cell_type": "code",
   "execution_count": 70,
   "metadata": {
    "id": "6FvxV2CioBQB"
   },
   "outputs": [
    {
     "name": "stdout",
     "output_type": "stream",
     "text": [
      "My Favourite Dishes are\n",
      " ['Turkish Kabab', 'Malai Boti', 'Bihari Tikka', 'Meat Pillaow', 'Chiken Handi', 'Daal Chawal', 'Cream Donuts', 'Three Milk Cake', 'Koftay']\n",
      "\n",
      "\n",
      "My Friend Favourite Dishes are\n",
      " ['Biryani', 'Qourma', 'Bhindi', 'Turkish Kabab', 'Malai Boti', 'Bihari Tikka', 'Meat Pillaow', 'Chiken Handi', 'Daal Chawal', 'Cream Donuts', 'Three Milk Cake', 'Koftay'] \n",
      "\n",
      "My Favourtite Foods are \n",
      "\n",
      "Turkish Kabab\n",
      "Malai Boti\n",
      "Bihari Tikka\n",
      "Meat Pillaow\n",
      "Chiken Handi\n",
      "Daal Chawal\n",
      "Cream Donuts\n",
      "Three Milk Cake\n",
      "Koftay\n",
      "\n",
      "\n",
      "My Friend Favourtite Foods are \n",
      "\n",
      "Biryani\n",
      "Qourma\n",
      "Bhindi\n",
      "Turkish Kabab\n",
      "Malai Boti\n",
      "Bihari Tikka\n",
      "Meat Pillaow\n",
      "Chiken Handi\n",
      "Daal Chawal\n",
      "Cream Donuts\n",
      "Three Milk Cake\n",
      "Koftay\n"
     ]
    }
   ],
   "source": [
    "friend_foods = fav_foods.copy()\n",
    "friend_foods_insert =[\"Biryani\",\"Qourma\",\"Bhindi\"]\n",
    "print(\"My Favourite Dishes are\\n\",fav_foods)\n",
    "for i in range(len(friend_foods_insert)):\n",
    "    friend_foods.insert(i , friend_foods_insert[i])\n",
    "print(\"\\n\")\n",
    "print(\"My Friend Favourite Dishes are\\n\",friend_foods,\"\\n\")\n",
    "print(\"My Favourtite Foods are \\n\")\n",
    "for food in fav_foods:\n",
    "    print(food)\n",
    "print(\"\\n\")\n",
    "print(\"My Friend Favourtite Foods are \\n\")\n",
    "for f_food in friend_foods:\n",
    "    print(f_food)"
   ]
  }
 ],
 "metadata": {
  "colab": {
   "collapsed_sections": [],
   "name": "Assignment.ipynb",
   "provenance": []
  },
  "kernelspec": {
   "display_name": "Python 3",
   "language": "python",
   "name": "python3"
  },
  "language_info": {
   "codemirror_mode": {
    "name": "ipython",
    "version": 3
   },
   "file_extension": ".py",
   "mimetype": "text/x-python",
   "name": "python",
   "nbconvert_exporter": "python",
   "pygments_lexer": "ipython3",
   "version": "3.7.4"
  }
 },
 "nbformat": 4,
 "nbformat_minor": 1
}
