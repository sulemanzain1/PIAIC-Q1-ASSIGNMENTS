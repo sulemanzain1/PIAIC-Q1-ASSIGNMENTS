{
 "cells": [
  {
   "cell_type": "code",
   "execution_count": 37,
   "metadata": {},
   "outputs": [
    {
     "name": "stdout",
     "output_type": "stream",
     "text": [
      "Enter Student ID: 18\n",
      "Enter Student Class: AI\n",
      "Enter Exam name quiz 1 , quiz 2 , mid , final: final\n",
      "Suleman has got in class_AI final Exam is 75\n"
     ]
    }
   ],
   "source": [
    "# 10 Students\n",
    "# 2 Classes\n",
    "# 4 exams\n",
    "# 3 attempts\n",
    "# take student name and exam name as input in which class take the student get maximum marks\n",
    "class1 = {\"name\": \"\",\n",
    "                      \"marks\": {\n",
    "                         \"quiz 1\": 60,\n",
    "                         \"quiz 2\": 65,\n",
    "                         \"mid\": 70,\n",
    "                         \"final\":75\n",
    "                               }\n",
    "         }\n",
    "\n",
    "class2 = {\"name\": \"CNC\",\n",
    "                      \"marks\": {\n",
    "                         \"quiz 1\": 40,\n",
    "                         \"quiz 2\": 55,\n",
    "                         \"mid\": 50,\n",
    "                         \"final\":55\n",
    "                               }\n",
    "         }\n",
    "\n",
    "students = {\n",
    "\"student_10\" : {\"name\": \"Ali\",\n",
    "             \"class_AI\": class1,\n",
    "             \"class_CNC\": class2\n",
    "            },\n",
    "\"student_11\" : {\"name\": \"Subhan\",\n",
    "               \"class_AI\": class1,\n",
    "               \"class_CNC\": class2\n",
    "               },\n",
    "\"student_12\" :{\"name\": \"Zain\",\"class_AI\":class1, \"class_CNC\": class2},\n",
    "    \n",
    "\"student_13\" :{\"name\": \"shehriyar\",\"class_AI\":class1, \"class_CNC\": class2},\n",
    "    \n",
    "\"student_14\" :{\"name\": \"ibtihaj\",\"class_AI\":class1, \"class_CNC\": class2},\n",
    "\n",
    "\"student_15\" :{\"name\": \"talha\",\"class_AI\":class1, \"class_CNC\": class2},\n",
    "    \n",
    "\"student_16\" :{\"name\": \"noman\",\"class_AI\":class1, \"class_CNC\": class2},\n",
    "    \n",
    "\"student_17\" :{\"name\": \"Muzammil\",\"class_AI\":class1, \"class_CNC\": class2},\n",
    "\n",
    "\"student_18\" :{\"name\": \"Suleman\",\"class_AI\":class1, \"class_CNC\": class2},\n",
    "    \n",
    "\"student_19\" :{\"name\": \"Danish\",\"class_AI\":class1, \"class_CNC\": class2},\n",
    "    \n",
    "\"student_20\" :{\"name\": \"Yaseen\",\"class_AI\":class1, \"class_CNC\": class2},\n",
    "}\n",
    "student_id = input(\"Enter Student ID: \")\n",
    "student_id = \"student_\" + student_id\n",
    "student_class = input(\"Enter Student Class: \")\n",
    "student_class = \"class_\" + student_class \n",
    "student_exam = input(\"Enter Exam name quiz 1 , quiz 2 , mid , final: \")\n",
    "print(students[student_id][\"name\"],\"has got in\", student_class,student_exam,\"Exam is\",\n",
    "      students[student_id][student_class][\"marks\"][student_exam])\n"
   ]
  },
  {
   "cell_type": "code",
   "execution_count": null,
   "metadata": {},
   "outputs": [],
   "source": []
  }
 ],
 "metadata": {
  "kernelspec": {
   "display_name": "Python 3",
   "language": "python",
   "name": "python3"
  },
  "language_info": {
   "codemirror_mode": {
    "name": "ipython",
    "version": 3
   },
   "file_extension": ".py",
   "mimetype": "text/x-python",
   "name": "python",
   "nbconvert_exporter": "python",
   "pygments_lexer": "ipython3",
   "version": "3.7.4"
  }
 },
 "nbformat": 4,
 "nbformat_minor": 2
}
